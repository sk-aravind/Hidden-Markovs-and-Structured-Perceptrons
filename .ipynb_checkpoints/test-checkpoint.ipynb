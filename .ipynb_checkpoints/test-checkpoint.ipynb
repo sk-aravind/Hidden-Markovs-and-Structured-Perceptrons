{
 "cells": [
  {
   "cell_type": "code",
   "execution_count": 1,
   "metadata": {
    "scrolled": true
   },
   "outputs": [
    {
     "name": "stdout",
     "output_type": "stream",
     "text": [
      "{'B-neutral': 1, 'I-neutral': 2, 'O': 3, 'B-positive': 4, 'I-positive': 5, 'B-negative': 6, 'I-negative': 7, 'stop': 8, 'start': 0}\n",
      "============================ CN ============================\n",
      "0  out of  546  tweets have been predicted.\n",
      "100  out of  546  tweets have been predicted.\n",
      "200  out of  546  tweets have been predicted.\n",
      "300  out of  546  tweets have been predicted.\n",
      "400  out of  546  tweets have been predicted.\n",
      "500  out of  546  tweets have been predicted.\n",
      "{'O': 1, 'B-INTJ': 2, 'B-PP': 3, 'B-NP': 4, 'I-NP': 5, 'B-VP': 6, 'B-PRT': 7, 'I-VP': 8, 'B-ADJP': 9, 'B-SBAR': 10, 'B-ADVP': 11, 'I-INTJ': 12, 'B-CONJP': 13, 'I-CONJP': 14, 'I-ADVP': 15, 'I-ADJP': 16, 'I-SBAR': 17, 'I-PP': 18, 'stop': 19, 'start': 0}\n",
      "============================ EN ============================\n",
      "0  out of  78  tweets have been predicted.\n",
      "{'O': 1, 'B-positive': 2, 'I-positive': 3, 'B-negative': 4, 'B-neutral': 5, 'I-negative': 6, 'I-neutral': 7, 'stop': 8, 'start': 0}\n",
      "============================ FR ============================\n",
      "0  out of  232  tweets have been predicted.\n",
      "100  out of  232  tweets have been predicted.\n",
      "200  out of  232  tweets have been predicted.\n",
      "{'O': 1, 'B-positive': 2, 'I-positive': 3, 'B-negative': 4, 'I-negative': 5, 'B-neutral': 6, 'I-neutral': 7, 'stop': 8, 'start': 0}\n",
      "============================ SG ============================\n",
      "0  out of  2698  tweets have been predicted.\n",
      "100  out of  2698  tweets have been predicted.\n",
      "200  out of  2698  tweets have been predicted.\n",
      "300  out of  2698  tweets have been predicted.\n",
      "400  out of  2698  tweets have been predicted.\n",
      "500  out of  2698  tweets have been predicted.\n",
      "600  out of  2698  tweets have been predicted.\n",
      "700  out of  2698  tweets have been predicted.\n",
      "800  out of  2698  tweets have been predicted.\n",
      "900  out of  2698  tweets have been predicted.\n",
      "1000  out of  2698  tweets have been predicted.\n",
      "1100  out of  2698  tweets have been predicted.\n",
      "1200  out of  2698  tweets have been predicted.\n",
      "1300  out of  2698  tweets have been predicted.\n",
      "1400  out of  2698  tweets have been predicted.\n",
      "1500  out of  2698  tweets have been predicted.\n",
      "1600  out of  2698  tweets have been predicted.\n",
      "1700  out of  2698  tweets have been predicted.\n",
      "1800  out of  2698  tweets have been predicted.\n",
      "1900  out of  2698  tweets have been predicted.\n",
      "2000  out of  2698  tweets have been predicted.\n",
      "2100  out of  2698  tweets have been predicted.\n",
      "2200  out of  2698  tweets have been predicted.\n",
      "2300  out of  2698  tweets have been predicted.\n",
      "2400  out of  2698  tweets have been predicted.\n",
      "2500  out of  2698  tweets have been predicted.\n",
      "2600  out of  2698  tweets have been predicted.\n",
      "============================ Predictions Complete ============================\n"
     ]
    }
   ],
   "source": [
    "!python part3.py \n"
   ]
  }
 ],
 "metadata": {
  "kernelspec": {
   "display_name": "Python 3",
   "language": "python",
   "name": "python3"
  },
  "language_info": {
   "codemirror_mode": {
    "name": "ipython",
    "version": 3
   },
   "file_extension": ".py",
   "mimetype": "text/x-python",
   "name": "python",
   "nbconvert_exporter": "python",
   "pygments_lexer": "ipython3",
   "version": "3.6.5"
  }
 },
 "nbformat": 4,
 "nbformat_minor": 2
}
