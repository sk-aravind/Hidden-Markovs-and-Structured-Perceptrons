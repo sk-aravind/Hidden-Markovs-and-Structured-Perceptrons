{
  "nbformat": 4,
  "nbformat_minor": 0,
  "metadata": {
    "colab": {
      "name": "ML_project.ipynb",
      "version": "0.3.2",
      "provenance": [],
      "collapsed_sections": []
    },
    "kernelspec": {
      "name": "python3",
      "display_name": "Python 3"
    }
  },
  "cells": [
    {
      "metadata": {
        "id": "SLd5d8U1idtU",
        "colab_type": "text"
      },
      "cell_type": "markdown",
      "source": [
        "**Part 3) Write a function that estimates the emission parameters from the training set using MLE (maximum\n",
        "likelihood estimation):** \n",
        "\\begin{align}\n",
        "  q(y_{i-1}, y_i) = \\frac{\\text{Count}(y_{i-1}, y_{i})}{\\text{Count}(y_{i-1})}\n",
        "\\end{align}\n",
        "\n",
        "We first have an array of the $m$ different labels:\n",
        "\\begin{align}\n",
        "\\begin{bmatrix}\n",
        "  y^{(0)} & y^{(2)} & ... & y^{(m+1)} \n",
        "\\end{bmatrix}\n",
        "\\end{align}\n",
        "\n",
        "where $y^{(0)}$ is the 'start' label and $y^{(m+1)}$ is the 'stop' label. We now look to generate an $(m+2) \\times (m+2)$ matrix where each entry denotes the transition parameter from label $y^{(i)}$ to $y^{(j)}$. This matrix will look as follows: \n",
        "\\begin{align}\n",
        "\\begin{bmatrix}\n",
        "  q(y^{(0)}, y^{(0)}) & q(y^{(0)}, y^{(1)}) &  ... & q(y^{(0)}, y^{(m+1)}) \\\\\n",
        "  q(y^{(1)}, y^{(0)}) & q(y^{(1)}, y^{(1)}) & ... & q(y^{(1)}, y^{(m+1)})\\\\\n",
        "  \\vdots & & \\ddots & \\vdots  \\\\\n",
        "  q(y^{(m+1)}, y^{(0)} & q(y^{(m+1)}, y^{(1)}) & ... & q(y^{(m+1)}, y^{(m+1)})\n",
        "\\end{bmatrix}\n",
        "\\end{align}\n",
        "\n",
        "The superscripts are to differentiate between being a different label and a label instance in the data set.  \n"
      ]
    },
    {
      "metadata": {
        "id": "XQzXZHeciayQ",
        "colab_type": "code",
        "colab": {
          "base_uri": "https://localhost:8080/",
          "height": 68
        },
        "outputId": "e0aaa282-bcb7-40b3-b56d-ad31928be0fa"
      },
      "cell_type": "code",
      "source": [
        "import numpy as np\n",
        "import itertools \n",
        "\n",
        "\n",
        "# function preprocesses data \n",
        "# def pre_process(data):\n",
        "  \n",
        "#   # block that segments features and labels\n",
        "#   X = {} # word dict (keys: words, values: no. of words) \n",
        "#   Y = {} # sentiment dict (keys: sents, values: no. of sents)\n",
        "  \n",
        "#   # creating a library labels as keys and values as assigned indices\n",
        "#   sent_list = Y.keys() # list of sentiments (assigning indices to labels) \n",
        "#   sents = {} # library\n",
        "#   for i in range(len(sent_list)):\n",
        "#     sents[sent_list[i]] = i\n",
        "  \n",
        "#   return X, Y, sents\n",
        "\n",
        "\n",
        "\n",
        "\n",
        "def transition_params(data, Y, sents):\n",
        "  # data: features and labels\n",
        "  # Y: dictionary with sentiment and counts\n",
        "  # sents: dictionaty with sentiments and indices\n",
        "  \n",
        "  q_uv = np.zeros([len(Y.keys()), len(Y.keys())]) # 2D array transitions\n",
        "  \n",
        "  # counting u,v transitions for all u,v\n",
        "  for y in range(1, len(data)):\n",
        "    \n",
        "      # comparing data labels with sentiment keys\n",
        "      label_i = sents.get(data[y][1])\n",
        "      label_im1 = sents.get(data[y-1][1])\n",
        "      \n",
        "      # filling up transition matrix\n",
        "      q_uv[label_im1, label_i] += 1/Y.get(data[y-1][1])\n",
        "      \n",
        "  return q_uv\n",
        "\n",
        "\n",
        "# simplet test\n",
        "data = [['Hello', 'NT'], ['my', 'NT'], ['name', 'NT'], ['is', 'NT'], ['Reuben','NT'], ['and', 'NT'], ['I', 'NT'], ['like', 'P'], ['Science', 'P']]\n",
        "Y = {'NT':7, 'P':2, 'N':0}\n",
        "sents = {'P':0, 'N':1, 'NT':2}\n",
        "\n",
        "print (transition_params(data, Y, sents))\n",
        "\n",
        "\n",
        "def viterbi_algo(emissions, transitions):\n",
        "  \n",
        "      \n",
        "      \n",
        "  \n",
        "  \n",
        "  "
      ],
      "execution_count": 29,
      "outputs": [
        {
          "output_type": "stream",
          "text": [
            "[[0.5        0.         0.        ]\n",
            " [0.         0.         0.        ]\n",
            " [0.14285714 0.         0.85714286]]\n"
          ],
          "name": "stdout"
        }
      ]
    },
    {
      "metadata": {
        "id": "lqY1lxF0YSJM",
        "colab_type": "code",
        "colab": {}
      },
      "cell_type": "code",
      "source": [
        ""
      ],
      "execution_count": 0,
      "outputs": []
    },
    {
      "metadata": {
        "id": "kOHpvMpJy4V8",
        "colab_type": "code",
        "colab": {}
      },
      "cell_type": "code",
      "source": [
        ""
      ],
      "execution_count": 0,
      "outputs": []
    }
  ]
}