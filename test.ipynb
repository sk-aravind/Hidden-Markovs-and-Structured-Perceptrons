{
 "cells": [
  {
   "cell_type": "code",
   "execution_count": null,
   "metadata": {
    "scrolled": true
   },
   "outputs": [
    {
     "name": "stdout",
     "output_type": "stream",
     "text": [
      "running part 5\n",
      "\n"
     ]
    }
   ],
   "source": [
    "# print ('running part 2')\n",
    "# print ()\n",
    "# !python part2.py\n",
    "\n",
    "# print ()\n",
    "\n",
    "# print ('running part 3')\n",
    "# print ()\n",
    "# !python part3.py\n",
    "\n",
    "# print ()\n",
    "\n",
    "# print ('running part 4')\n",
    "# print ()\n",
    "# !python part4.py\n",
    "\n",
    "# print ()\n",
    "\n",
    "print ('running part 5')\n",
    "print ()\n",
    "!python part5.py\n",
    "\n",
    "\n",
    "# my_dict = {'hello':0, 'my':1, 'name':2, 'is:':3, 'Reuben':4}\n",
    "\n",
    "# # print (max(my_dict.values()))\n"
   ]
  }
 ],
 "metadata": {
  "kernelspec": {
   "display_name": "Python 3",
   "language": "python",
   "name": "python3"
  },
  "language_info": {
   "codemirror_mode": {
    "name": "ipython",
    "version": 3
   },
   "file_extension": ".py",
   "mimetype": "text/x-python",
   "name": "python",
   "nbconvert_exporter": "python",
   "pygments_lexer": "ipython3",
   "version": "3.6.5"
  }
 },
 "nbformat": 4,
 "nbformat_minor": 2
}
