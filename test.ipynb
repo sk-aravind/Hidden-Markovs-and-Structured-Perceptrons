{
 "cells": [
  {
   "cell_type": "code",
   "execution_count": 1,
   "metadata": {
    "scrolled": true
   },
   "outputs": [
    {
     "name": "stdout",
     "output_type": "stream",
     "text": [
      "============================ EN ============================\n",
      "time to get predictions for EN :  46.65594816207886\n",
      "============================ FR ============================\n",
      "time to get predictions for FR :  14.631870746612549\n",
      "============================ Predictions Complete ============================\n"
     ]
    }
   ],
   "source": [
    "# !python part3.py\n",
    "\n",
    "!python part4.py\n"
   ]
  }
 ],
 "metadata": {
  "kernelspec": {
   "display_name": "Python 3",
   "language": "python",
   "name": "python3"
  },
  "language_info": {
   "codemirror_mode": {
    "name": "ipython",
    "version": 3
   },
   "file_extension": ".py",
   "mimetype": "text/x-python",
   "name": "python",
   "nbconvert_exporter": "python",
   "pygments_lexer": "ipython3",
   "version": "3.6.5"
  }
 },
 "nbformat": 4,
 "nbformat_minor": 2
}
