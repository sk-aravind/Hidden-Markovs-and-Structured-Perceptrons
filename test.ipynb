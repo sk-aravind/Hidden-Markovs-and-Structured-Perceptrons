{
 "cells": [
  {
   "cell_type": "code",
   "execution_count": null,
   "metadata": {
    "scrolled": true
   },
   "outputs": [
    {
     "name": "stdout",
     "output_type": "stream",
     "text": [
      "running part 3\n"
     ]
    }
   ],
   "source": [
    "# print ('running part 2')\n",
    "# !python part2.py\n",
    "\n",
    "# print ()\n",
    "\n",
    "print ('running part 3')\n",
    "!python part3.py\n",
    "\n",
    "print ()\n",
    "\n",
    "# print ('running part 4')\n",
    "# !python part4.py\n"
   ]
  }
 ],
 "metadata": {
  "kernelspec": {
   "display_name": "Python 3",
   "language": "python",
   "name": "python3"
  },
  "language_info": {
   "codemirror_mode": {
    "name": "ipython",
    "version": 3
   },
   "file_extension": ".py",
   "mimetype": "text/x-python",
   "name": "python",
   "nbconvert_exporter": "python",
   "pygments_lexer": "ipython3",
   "version": "3.6.5"
  }
 },
 "nbformat": 4,
 "nbformat_minor": 2
}
