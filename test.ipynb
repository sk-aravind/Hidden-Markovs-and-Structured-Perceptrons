{
 "cells": [
  {
   "cell_type": "code",
   "execution_count": 1,
   "metadata": {
    "scrolled": true
   },
   "outputs": [
    {
     "name": "stdout",
     "output_type": "stream",
     "text": [
      "running part 3\n",
      "\n",
      "============================ EN ============================\n",
      "time to get predictions for EN :  1.0771191120147705\n",
      "\n",
      "EN\n",
      "Entities in gold data : 802\n",
      "Entities in prediction: 701\n",
      "\n",
      "entities\n",
      " - Correct   : 506\n",
      " - Precision : 0.7218\n",
      " - Recall    : 0.6309\n",
      " - F score   : 0.6733\n",
      "\n",
      "entity types\n",
      " - Correct   : 476\n",
      " - Precision : 0.6790\n",
      " - Recall    : 0.5935\n",
      " - F score   : 0.6334\n",
      "\n",
      "============================ FR ============================\n",
      "time to get predictions for FR :  1.2267186641693115\n",
      "\n",
      "FR\n",
      "Entities in gold data : 238\n",
      "Entities in prediction: 173\n",
      "\n",
      "entities\n",
      " - Correct   : 126\n",
      " - Precision : 0.7283\n",
      " - Recall    : 0.5294\n",
      " - F score   : 0.6131\n",
      "\n",
      "entity types\n",
      " - Correct   : 80\n",
      " - Precision : 0.4624\n",
      " - Recall    : 0.3361\n",
      " - F score   : 0.3893\n",
      "\n",
      "============================ Predictions Complete ============================\n"
     ]
    }
   ],
   "source": [
    "# print ('running part 2')\n",
    "# print ()\n",
    "# !python part2.py\n",
    "\n",
    "# print ()\n",
    "\n",
    "print ('running part 3')\n",
    "print ()\n",
    "!python part3.py\n",
    "\n",
    "# print ()\n",
    "\n",
    "\n",
    "# print ('running part 4')\n",
    "# print ()\n",
    "# !python part4.py\n",
    "\n",
    "# my_dict = {'hello':0, 'my':1, 'name':2, 'is:':3, 'Reuben':4}\n",
    "\n",
    "# # print (max(my_dict.values()))\n",
    "\n",
    "# for j in range(len(my_dict)-1, -1, -1):\n",
    "#     print (my_dict[list(my_dict.keys())[j]])"
   ]
  }
 ],
 "metadata": {
  "kernelspec": {
   "display_name": "Python 3",
   "language": "python",
   "name": "python3"
  },
  "language_info": {
   "codemirror_mode": {
    "name": "ipython",
    "version": 3
   },
   "file_extension": ".py",
   "mimetype": "text/x-python",
   "name": "python",
   "nbconvert_exporter": "python",
   "pygments_lexer": "ipython3",
   "version": "3.6.5"
  }
 },
 "nbformat": 4,
 "nbformat_minor": 2
}
